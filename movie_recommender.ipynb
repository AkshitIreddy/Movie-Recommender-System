{
 "cells": [
  {
   "cell_type": "code",
   "execution_count": 231,
   "metadata": {},
   "outputs": [],
   "source": [
    "import pandas as pd\n",
    "import matplotlib.pyplot as plt"
   ]
  },
  {
   "cell_type": "code",
   "execution_count": 232,
   "metadata": {},
   "outputs": [],
   "source": [
    "df = pd.read_csv('https://query.data.world/s/uikepcpffyo2nhig52xxeevdialfl7')"
   ]
  },
  {
   "cell_type": "code",
   "execution_count": 233,
   "metadata": {},
   "outputs": [],
   "source": [
    "df1 = df"
   ]
  },
  {
   "cell_type": "code",
   "execution_count": 234,
   "metadata": {},
   "outputs": [
    {
     "data": {
      "text/html": [
       "<div>\n",
       "<style scoped>\n",
       "    .dataframe tbody tr th:only-of-type {\n",
       "        vertical-align: middle;\n",
       "    }\n",
       "\n",
       "    .dataframe tbody tr th {\n",
       "        vertical-align: top;\n",
       "    }\n",
       "\n",
       "    .dataframe thead th {\n",
       "        text-align: right;\n",
       "    }\n",
       "</style>\n",
       "<table border=\"1\" class=\"dataframe\">\n",
       "  <thead>\n",
       "    <tr style=\"text-align: right;\">\n",
       "      <th></th>\n",
       "      <th>Unnamed: 0</th>\n",
       "      <th>Title</th>\n",
       "      <th>Year</th>\n",
       "      <th>Rated</th>\n",
       "      <th>Released</th>\n",
       "      <th>Runtime</th>\n",
       "      <th>Genre</th>\n",
       "      <th>Director</th>\n",
       "      <th>Writer</th>\n",
       "      <th>Actors</th>\n",
       "      <th>Plot</th>\n",
       "      <th>Language</th>\n",
       "      <th>Country</th>\n",
       "      <th>Awards</th>\n",
       "      <th>Poster</th>\n",
       "      <th>Ratings.Source</th>\n",
       "      <th>Ratings.Value</th>\n",
       "      <th>Metascore</th>\n",
       "      <th>imdbRating</th>\n",
       "      <th>imdbVotes</th>\n",
       "      <th>imdbID</th>\n",
       "      <th>Type</th>\n",
       "      <th>tomatoMeter</th>\n",
       "      <th>tomatoImage</th>\n",
       "      <th>tomatoRating</th>\n",
       "      <th>tomatoReviews</th>\n",
       "      <th>tomatoFresh</th>\n",
       "      <th>tomatoRotten</th>\n",
       "      <th>tomatoConsensus</th>\n",
       "      <th>tomatoUserMeter</th>\n",
       "      <th>tomatoUserRating</th>\n",
       "      <th>tomatoUserReviews</th>\n",
       "      <th>tomatoURL</th>\n",
       "      <th>DVD</th>\n",
       "      <th>BoxOffice</th>\n",
       "      <th>Production</th>\n",
       "      <th>Website</th>\n",
       "      <th>Response</th>\n",
       "    </tr>\n",
       "  </thead>\n",
       "  <tbody>\n",
       "    <tr>\n",
       "      <th>0</th>\n",
       "      <td>1</td>\n",
       "      <td>The Shawshank Redemption</td>\n",
       "      <td>1994</td>\n",
       "      <td>R</td>\n",
       "      <td>14 Oct 1994</td>\n",
       "      <td>142 min</td>\n",
       "      <td>Crime, Drama</td>\n",
       "      <td>Frank Darabont</td>\n",
       "      <td>Stephen King (short story \"Rita Hayworth and S...</td>\n",
       "      <td>Tim Robbins, Morgan Freeman, Bob Gunton, Willi...</td>\n",
       "      <td>Two imprisoned men bond over a number of years...</td>\n",
       "      <td>English</td>\n",
       "      <td>USA</td>\n",
       "      <td>Nominated for 7 Oscars. Another 19 wins &amp; 30 n...</td>\n",
       "      <td>https://images-na.ssl-images-amazon.com/images...</td>\n",
       "      <td>Internet Movie Database</td>\n",
       "      <td>9.3/10</td>\n",
       "      <td>80.0</td>\n",
       "      <td>9.3</td>\n",
       "      <td>1,825,626</td>\n",
       "      <td>tt0111161</td>\n",
       "      <td>movie</td>\n",
       "      <td>NaN</td>\n",
       "      <td>NaN</td>\n",
       "      <td>NaN</td>\n",
       "      <td>NaN</td>\n",
       "      <td>NaN</td>\n",
       "      <td>NaN</td>\n",
       "      <td>NaN</td>\n",
       "      <td>NaN</td>\n",
       "      <td>NaN</td>\n",
       "      <td>NaN</td>\n",
       "      <td>http://www.rottentomatoes.com/m/shawshank_rede...</td>\n",
       "      <td>27 Jan 1998</td>\n",
       "      <td>NaN</td>\n",
       "      <td>Columbia Pictures</td>\n",
       "      <td>NaN</td>\n",
       "      <td>True</td>\n",
       "    </tr>\n",
       "    <tr>\n",
       "      <th>1</th>\n",
       "      <td>2</td>\n",
       "      <td>The Godfather</td>\n",
       "      <td>1972</td>\n",
       "      <td>R</td>\n",
       "      <td>24 Mar 1972</td>\n",
       "      <td>175 min</td>\n",
       "      <td>Crime, Drama</td>\n",
       "      <td>Francis Ford Coppola</td>\n",
       "      <td>Mario Puzo (screenplay), Francis Ford Coppola ...</td>\n",
       "      <td>Marlon Brando, Al Pacino, James Caan, Richard ...</td>\n",
       "      <td>The aging patriarch of an organized crime dyna...</td>\n",
       "      <td>English, Italian, Latin</td>\n",
       "      <td>USA</td>\n",
       "      <td>Won 3 Oscars. Another 23 wins &amp; 27 nominations.</td>\n",
       "      <td>https://images-na.ssl-images-amazon.com/images...</td>\n",
       "      <td>Internet Movie Database</td>\n",
       "      <td>9.2/10</td>\n",
       "      <td>100.0</td>\n",
       "      <td>9.2</td>\n",
       "      <td>1,243,444</td>\n",
       "      <td>tt0068646</td>\n",
       "      <td>movie</td>\n",
       "      <td>NaN</td>\n",
       "      <td>NaN</td>\n",
       "      <td>NaN</td>\n",
       "      <td>NaN</td>\n",
       "      <td>NaN</td>\n",
       "      <td>NaN</td>\n",
       "      <td>NaN</td>\n",
       "      <td>NaN</td>\n",
       "      <td>NaN</td>\n",
       "      <td>NaN</td>\n",
       "      <td>http://www.rottentomatoes.com/m/godfather/</td>\n",
       "      <td>09 Oct 2001</td>\n",
       "      <td>NaN</td>\n",
       "      <td>Paramount Pictures</td>\n",
       "      <td>http://www.thegodfather.com</td>\n",
       "      <td>True</td>\n",
       "    </tr>\n",
       "  </tbody>\n",
       "</table>\n",
       "</div>"
      ],
      "text/plain": [
       "   Unnamed: 0                     Title  Year Rated     Released  Runtime  \\\n",
       "0           1  The Shawshank Redemption  1994     R  14 Oct 1994  142 min   \n",
       "1           2             The Godfather  1972     R  24 Mar 1972  175 min   \n",
       "\n",
       "          Genre              Director  \\\n",
       "0  Crime, Drama        Frank Darabont   \n",
       "1  Crime, Drama  Francis Ford Coppola   \n",
       "\n",
       "                                              Writer  \\\n",
       "0  Stephen King (short story \"Rita Hayworth and S...   \n",
       "1  Mario Puzo (screenplay), Francis Ford Coppola ...   \n",
       "\n",
       "                                              Actors  \\\n",
       "0  Tim Robbins, Morgan Freeman, Bob Gunton, Willi...   \n",
       "1  Marlon Brando, Al Pacino, James Caan, Richard ...   \n",
       "\n",
       "                                                Plot                 Language  \\\n",
       "0  Two imprisoned men bond over a number of years...                  English   \n",
       "1  The aging patriarch of an organized crime dyna...  English, Italian, Latin   \n",
       "\n",
       "  Country                                             Awards  \\\n",
       "0     USA  Nominated for 7 Oscars. Another 19 wins & 30 n...   \n",
       "1     USA    Won 3 Oscars. Another 23 wins & 27 nominations.   \n",
       "\n",
       "                                              Poster           Ratings.Source  \\\n",
       "0  https://images-na.ssl-images-amazon.com/images...  Internet Movie Database   \n",
       "1  https://images-na.ssl-images-amazon.com/images...  Internet Movie Database   \n",
       "\n",
       "  Ratings.Value  Metascore  imdbRating  imdbVotes     imdbID   Type  \\\n",
       "0        9.3/10       80.0         9.3  1,825,626  tt0111161  movie   \n",
       "1        9.2/10      100.0         9.2  1,243,444  tt0068646  movie   \n",
       "\n",
       "   tomatoMeter  tomatoImage  tomatoRating  tomatoReviews  tomatoFresh  \\\n",
       "0          NaN          NaN           NaN            NaN          NaN   \n",
       "1          NaN          NaN           NaN            NaN          NaN   \n",
       "\n",
       "   tomatoRotten  tomatoConsensus  tomatoUserMeter  tomatoUserRating  \\\n",
       "0           NaN              NaN              NaN               NaN   \n",
       "1           NaN              NaN              NaN               NaN   \n",
       "\n",
       "   tomatoUserReviews                                          tomatoURL  \\\n",
       "0                NaN  http://www.rottentomatoes.com/m/shawshank_rede...   \n",
       "1                NaN         http://www.rottentomatoes.com/m/godfather/   \n",
       "\n",
       "           DVD BoxOffice          Production                      Website  \\\n",
       "0  27 Jan 1998       NaN   Columbia Pictures                          NaN   \n",
       "1  09 Oct 2001       NaN  Paramount Pictures  http://www.thegodfather.com   \n",
       "\n",
       "   Response  \n",
       "0      True  \n",
       "1      True  "
      ]
     },
     "execution_count": 234,
     "metadata": {},
     "output_type": "execute_result"
    }
   ],
   "source": [
    "#Make sure all columns are visble while printing\n",
    "pd.set_option(\"display.max_columns\" , 100)\n",
    "df1.head(2)"
   ]
  },
  {
   "cell_type": "code",
   "execution_count": 235,
   "metadata": {},
   "outputs": [
    {
     "name": "stdout",
     "output_type": "stream",
     "text": [
      "The dataset has 250 rows\n"
     ]
    },
    {
     "data": {
      "image/png": "[encoded data removed]",
      "text/plain": [
       "<Figure size 576x720 with 1 Axes>"
      ]
     },
     "metadata": {},
     "output_type": "display_data"
    },
    {
     "name": "stdout",
     "output_type": "stream",
     "text": [
      "To avoid recommending movies that are inapproriate for the user, we will recommend movies with the similar or lesser age rating to what the user has watched.\n"
     ]
    }
   ],
   "source": [
    "#print the number of rows\n",
    "print(f\"The dataset has {df1.shape[0]} rows\")\n",
    "# Plot the pie chart of the ratings \n",
    "df1.Rated.value_counts().plot(kind='pie', figsize=(8,10), autopct = '%1.1f%%' ,colors=[\"purple\" , \"blue\" , \"green\" , \"orange\" , \"brown\" , \"gray\" , \"darkgreen\" , \"darkred\" , \"darkcyan\" , \"darkorange\"], legend = True)\n",
    "plt.title('Movie Age Ratings')\n",
    "plt.show()\n",
    "print(\"To avoid recommending movies that are inapproriate for the user, we will recommend movies with the similar or lesser age rating to what the user has watched.\")"
   ]
  },
  {
   "cell_type": "code",
   "execution_count": 236,
   "metadata": {},
   "outputs": [],
   "source": [
    "# we will check if any movie has been repeated in the dataset\n",
    "#print(df1.duplicated().sum())\n",
    "#Since no duplicates were found we will proceed by checking for na values\n",
    "#print(df1.isnull().sum())\n",
    "#There are many na values in some of the columns in the dataset but since we won't be using those columns we will leave it as it is."
   ]
  },
  {
   "cell_type": "code",
   "execution_count": 237,
   "metadata": {},
   "outputs": [],
   "source": [
    "#List fo columns that we will be using to make our recommendations\n",
    "column_list = ['Title', 'Genre', 'Director', 'Actors', 'Plot', 'Rated' , 'Country'] \n",
    "# make a column that has all the values of each column_list \n",
    "df1['combined'] = df1[column_list].apply(lambda x: ' '.join(x), axis=1)"
   ]
  },
  {
   "cell_type": "code",
   "execution_count": 238,
   "metadata": {},
   "outputs": [],
   "source": [
    "#let us remove the stopwords from the combined column and stem the words also.\n",
    "from nltk.corpus import stopwords\n",
    "from nltk.tokenize import word_tokenize\n",
    "from nltk.stem import PorterStemmer\n",
    "ps = PorterStemmer()\n",
    "stopwords = set(stopwords.words('english'))\n",
    "def clean_sentence(text):\n",
    "    #Tokenize the sentence\n",
    "    word_tokens = word_tokenize(text)\n",
    "    #Remove the stopwords\n",
    "    clean_sentence = [w for w in word_tokens if not w in stopwords]\n",
    "    # stem the words\n",
    "    clean_sentence = [ps.stem(w) for w in clean_sentence]\n",
    "    #Join the words back into a sentence\n",
    "    return \" \".join(clean_sentence)"
   ]
  },
  {
   "cell_type": "code",
   "execution_count": 239,
   "metadata": {},
   "outputs": [],
   "source": [
    "# Apply the clean sentence function to the combined column\n",
    "df1['combined'] = df1['combined'].apply(clean_sentence)"
   ]
  },
  {
   "cell_type": "code",
   "execution_count": 240,
   "metadata": {},
   "outputs": [
    {
     "name": "stdout",
     "output_type": "stream",
     "text": [
      "0      the shawshank redempt crime , drama frank dara...\n",
      "1      the godfath crime , drama franci ford coppola ...\n",
      "2      the godfath : part ii crime , drama franci for...\n",
      "3      the dark knight action , crime , drama christo...\n",
      "4      12 angri men crime , drama sidney lumet martin...\n",
      "                             ...                        \n",
      "245    the lost weekend drama , film-noir billi wilde...\n",
      "246    short term 12 drama destin daniel cretton brie...\n",
      "247    hi girl friday comedi , drama , romanc howard ...\n",
      "248    the straight stori biographi , drama david lyn...\n",
      "249    slumdog millionair drama danni boyl , loveleen...\n",
      "Name: combined, Length: 250, dtype: object\n"
     ]
    }
   ],
   "source": [
    "# print the combined column\n",
    "print(df1['combined'])"
   ]
  },
  {
   "cell_type": "code",
   "execution_count": 241,
   "metadata": {},
   "outputs": [
    {
     "data": {
      "text/html": [
       "<div>\n",
       "<style scoped>\n",
       "    .dataframe tbody tr th:only-of-type {\n",
       "        vertical-align: middle;\n",
       "    }\n",
       "\n",
       "    .dataframe tbody tr th {\n",
       "        vertical-align: top;\n",
       "    }\n",
       "\n",
       "    .dataframe thead th {\n",
       "        text-align: right;\n",
       "    }\n",
       "</style>\n",
       "<table border=\"1\" class=\"dataframe\">\n",
       "  <thead>\n",
       "    <tr style=\"text-align: right;\">\n",
       "      <th></th>\n",
       "      <th>Title</th>\n",
       "      <th>Genre</th>\n",
       "      <th>Director</th>\n",
       "      <th>Actors</th>\n",
       "      <th>Plot</th>\n",
       "      <th>Rated</th>\n",
       "      <th>Country</th>\n",
       "      <th>combined</th>\n",
       "    </tr>\n",
       "  </thead>\n",
       "  <tbody>\n",
       "    <tr>\n",
       "      <th>0</th>\n",
       "      <td>The Shawshank Redemption</td>\n",
       "      <td>Crime, Drama</td>\n",
       "      <td>Frank Darabont</td>\n",
       "      <td>Tim Robbins, Morgan Freeman, Bob Gunton, Willi...</td>\n",
       "      <td>Two imprisoned men bond over a number of years...</td>\n",
       "      <td>R</td>\n",
       "      <td>USA</td>\n",
       "      <td>the shawshank redempt crime , drama frank dara...</td>\n",
       "    </tr>\n",
       "    <tr>\n",
       "      <th>1</th>\n",
       "      <td>The Godfather</td>\n",
       "      <td>Crime, Drama</td>\n",
       "      <td>Francis Ford Coppola</td>\n",
       "      <td>Marlon Brando, Al Pacino, James Caan, Richard ...</td>\n",
       "      <td>The aging patriarch of an organized crime dyna...</td>\n",
       "      <td>R</td>\n",
       "      <td>USA</td>\n",
       "      <td>the godfath crime , drama franci ford coppola ...</td>\n",
       "    </tr>\n",
       "  </tbody>\n",
       "</table>\n",
       "</div>"
      ],
      "text/plain": [
       "                      Title         Genre              Director  \\\n",
       "0  The Shawshank Redemption  Crime, Drama        Frank Darabont   \n",
       "1             The Godfather  Crime, Drama  Francis Ford Coppola   \n",
       "\n",
       "                                              Actors  \\\n",
       "0  Tim Robbins, Morgan Freeman, Bob Gunton, Willi...   \n",
       "1  Marlon Brando, Al Pacino, James Caan, Richard ...   \n",
       "\n",
       "                                                Plot Rated Country  \\\n",
       "0  Two imprisoned men bond over a number of years...     R     USA   \n",
       "1  The aging patriarch of an organized crime dyna...     R     USA   \n",
       "\n",
       "                                            combined  \n",
       "0  the shawshank redempt crime , drama frank dara...  \n",
       "1  the godfath crime , drama franci ford coppola ...  "
      ]
     },
     "execution_count": 241,
     "metadata": {},
     "output_type": "execute_result"
    }
   ],
   "source": [
    "# remove all the columns except the column we are going to use to make our recommendations\n",
    "df1 = df1[['Title', 'Genre', 'Director', 'Actors', 'Plot', 'Rated' , 'Country' , 'combined']]\n",
    "df1.head(2)"
   ]
  },
  {
   "cell_type": "code",
   "execution_count": 242,
   "metadata": {},
   "outputs": [],
   "source": [
    "from sklearn.feature_extraction.text import CountVectorizer\n",
    "from sklearn.metrics.pairwise import cosine_similarity\n",
    "# Create a count vectorizer object\n",
    "cv = CountVectorizer()\n",
    "# Fit the vectorizer to the combined column\n",
    "count_matrix = cv.fit_transform(df1[\"combined\"])\n",
    "# Compute the cosine similarity matrix\n",
    "cosine_sim = cosine_similarity(count_matrix)"
   ]
  },
  {
   "cell_type": "code",
   "execution_count": 243,
   "metadata": {},
   "outputs": [],
   "source": [
    "# Function that takes in movie title as input and outputs most similar movies\n",
    "def get_recommendations(title):\n",
    "    # Get the index of the movie that matches the title\n",
    "    id = df1[df1.Title == title].index[0]\n",
    "    # Get the pairwise similarity scores of all movies with that movie\n",
    "    sim_scores = list(enumerate(cosine_sim[id]))\n",
    "    # Sort the movies based on the similarity scores\n",
    "    sim_scores = sorted(sim_scores, key=lambda x: x[1], reverse=True)\n",
    "    # Get the scores of the 10 most similar movies, we don't want the element at 0 th index beacuse that will be the same movie.\n",
    "    sim_scores = sim_scores[1:11]\n",
    "    # Get the movie indices\n",
    "    movie_indices = [i[0] for i in sim_scores]\n",
    "    # Return the top 10 most similar movies\n",
    "    return df1.iloc[movie_indices]\n"
   ]
  },
  {
   "cell_type": "code",
   "execution_count": 244,
   "metadata": {},
   "outputs": [
    {
     "name": "stdout",
     "output_type": "stream",
     "text": [
      "The Dark Knight Rises\n",
      "The Prestige\n",
      "Batman Begins\n",
      "Guardians of the Galaxy Vol. 2\n",
      "The Green Mile\n",
      "Harry Potter and the Deathly Hallows: Part 2\n",
      "Interstellar\n",
      "The Lord of the Rings: The Fellowship of the Ring\n",
      "Inception\n",
      "The Martian\n"
     ]
    }
   ],
   "source": [
    "# get the top 10 most similar movies to the movie 'The Dark Knight' \n",
    "movie_name = \"The Dark Knight\"\n",
    "movie_recommendation_indices = get_recommendations(movie_name)\n",
    "# We will recommend movies to the user based on the rating of the movie the user has seen.\n",
    "mature_ratings = [\"R\", \"APPROVED\" , \"PASSED\" , \"NOT RATED\" , \"UNRATED\" , \"TV-MA\"]\n",
    "premature_ratings = [\"PG-13\" , \"PG\" , \"G\" , \"GP\"]\n",
    "# Get the index of the movie_name\n",
    "movie_name_index = df1[df.Title == movie_name].index[0]\n",
    "for i in range(len(movie_recommendation_indices)):\n",
    "    if df1['Rated'][movie_name_index] in premature_ratings:\n",
    "        if df1['Rated'][i] in mature_ratings:\n",
    "            pass\n",
    "    print(df1.iloc[movie_recommendation_indices.index[i]]['Title'])"
   ]
  },
  {
   "cell_type": "code",
   "execution_count": 245,
   "metadata": {},
   "outputs": [],
   "source": [
    "#The End!"
   ]
  }
 ],
 "metadata": {
  "interpreter": {
   "hash": "11f1dc213e07634baa4c5c321dec03c05dafae643c50f20e6d1a492290c05dc2"
  },
  "kernelspec": {
   "display_name": "Python 3.9.7 64-bit",
   "language": "python",
   "name": "python3"
  },
  "language_info": {
   "codemirror_mode": {
    "name": "ipython",
    "version": 3
   },
   "file_extension": ".py",
   "mimetype": "text/x-python",
   "name": "python",
   "nbconvert_exporter": "python",
   "pygments_lexer": "ipython3",
   "version": "3.9.7"
  },
  "orig_nbformat": 4
 },
 "nbformat": 4,
 "nbformat_minor": 2
}
